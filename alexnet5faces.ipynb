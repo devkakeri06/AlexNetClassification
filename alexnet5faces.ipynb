{
 "cells": [
  {
   "cell_type": "code",
   "execution_count": 1,
   "id": "de3c0cf2",
   "metadata": {
    "_cell_guid": "b1076dfc-b9ad-4769-8c92-a6c4dae69d19",
    "_uuid": "8f2839f25d086af736a60e9eeb907d3b93b6e0e5",
    "execution": {
     "iopub.execute_input": "2022-05-03T05:12:40.173370Z",
     "iopub.status.busy": "2022-05-03T05:12:40.172575Z",
     "iopub.status.idle": "2022-05-03T05:12:40.182639Z",
     "shell.execute_reply": "2022-05-03T05:12:40.181853Z"
    },
    "papermill": {
     "duration": 0.022155,
     "end_time": "2022-05-03T05:12:40.184808",
     "exception": false,
     "start_time": "2022-05-03T05:12:40.162653",
     "status": "completed"
    },
    "tags": []
   },
   "outputs": [],
   "source": [
    "# This Python 3 environment comes with many helpful analytics libraries installed\n",
    "# It is defined by the kaggle/python Docker image: https://github.com/kaggle/docker-python\n",
    "# For example, here's several helpful packages to load\n",
    "\n",
    "import numpy as np # linear algebra\n",
    "import pandas as pd # data processing, CSV file I/O (e.g. pd.read_csv)\n",
    "\n",
    "# Input data files are available in the read-only \"../input/\" directory\n",
    "# For example, running this (by clicking run or pressing Shift+Enter) will list all files under the input directory\n",
    "\n",
    "import os\n",
    "# for dirname, _, filenames in os.walk('/kaggle/input'):\n",
    "#     for filename in filenames:\n",
    "#         print(os.path.join(dirname, filename))\n",
    "\n",
    "# You can write up to 20GB to the current directory (/kaggle/working/) that gets preserved as output when you create a version using \"Save & Run All\" \n",
    "# You can also write temporary files to /kaggle/temp/, but they won't be saved outside of the current session"
   ]
  },
  {
   "cell_type": "code",
   "execution_count": 2,
   "id": "1a49ba09",
   "metadata": {
    "execution": {
     "iopub.execute_input": "2022-05-03T05:12:40.201778Z",
     "iopub.status.busy": "2022-05-03T05:12:40.201211Z",
     "iopub.status.idle": "2022-05-03T05:12:48.681071Z",
     "shell.execute_reply": "2022-05-03T05:12:48.679908Z"
    },
    "papermill": {
     "duration": 8.491685,
     "end_time": "2022-05-03T05:12:48.684171",
     "exception": false,
     "start_time": "2022-05-03T05:12:40.192486",
     "status": "completed"
    },
    "tags": []
   },
   "outputs": [
    {
     "name": "stdout",
     "output_type": "stream",
     "text": [
      "['ben_afflek', 'mindy_kaling', 'jerry_seinfeld', 'madonna', 'elton_john']\n",
      "5\n",
      "(93, 224, 224, 3)\n",
      "(93,)\n"
     ]
    }
   ],
   "source": [
    "import matplotlib.pyplot as plt\n",
    "import tensorflow as tf\n",
    "from tensorflow.keras.preprocessing.image import load_img, img_to_array\n",
    "from tensorflow.python.keras.preprocessing.image import ImageDataGenerator\n",
    "from sklearn.metrics import classification_report, log_loss, accuracy_score\n",
    "from sklearn.model_selection import train_test_split\n",
    "\n",
    "directory = '../input/5-celebrity-faces-dataset/train/'\n",
    "\n",
    "Name=[]\n",
    "for file in os.listdir(directory):\n",
    "    Name+=[file]\n",
    "print(Name)\n",
    "print(len(Name))\n",
    "\n",
    "N=[]\n",
    "for i in range(len(Name)):\n",
    "    N+=[i]\n",
    "    \n",
    "normal_mapping=dict(zip(Name,N)) \n",
    "reverse_mapping=dict(zip(N,Name)) \n",
    "\n",
    "dataset=[]\n",
    "# testset=[]\n",
    "count=0\n",
    "for file in os.listdir(directory):\n",
    "    path=os.path.join(directory,file)\n",
    "    t=0\n",
    "    for im in os.listdir(path):\n",
    "        image=load_img(os.path.join(path,im), grayscale=False, color_mode='rgb', target_size=(224,224))\n",
    "        image=img_to_array(image)\n",
    "        image=image/255.0\n",
    "        t+=1\n",
    "        dataset.append([image,count])\n",
    "    count+=1\n",
    "\n",
    "data,labels0=zip(*dataset)\n",
    "labels1=(labels0)\n",
    "data=np.array(data)\n",
    "labels=np.array(labels1)\n",
    "\n",
    "print(data.shape)\n",
    "print(labels.shape)"
   ]
  },
  {
   "cell_type": "code",
   "execution_count": 3,
   "id": "b67e613d",
   "metadata": {
    "execution": {
     "iopub.execute_input": "2022-05-03T05:12:48.703669Z",
     "iopub.status.busy": "2022-05-03T05:12:48.703349Z",
     "iopub.status.idle": "2022-05-03T05:12:49.012537Z",
     "shell.execute_reply": "2022-05-03T05:12:49.011397Z"
    },
    "papermill": {
     "duration": 0.321142,
     "end_time": "2022-05-03T05:12:49.014838",
     "exception": false,
     "start_time": "2022-05-03T05:12:48.693696",
     "status": "completed"
    },
    "tags": []
   },
   "outputs": [
    {
     "name": "stdout",
     "output_type": "stream",
     "text": [
      "['ben_afflek', 'mindy_kaling', 'jerry_seinfeld', 'madonna', 'elton_john']\n",
      "5\n",
      "(25, 224, 224, 3)\n",
      "(25,)\n"
     ]
    }
   ],
   "source": [
    "\n",
    "valdir = \"../input/5-celebrity-faces-dataset/val/\"\n",
    "\n",
    "valname=[]\n",
    "\n",
    "for file in os.listdir(valdir):\n",
    "    valname+=[file]\n",
    "print(valname)\n",
    "print(len(valname))\n",
    "\n",
    "N1=[]\n",
    "for i in range(len(valname)):\n",
    "    N1+=[i]\n",
    "    \n",
    "normal_mapping=dict(zip(valname,N1)) \n",
    "reverse_mapping=dict(zip(N1,valname))  \n",
    "\n",
    "\n",
    "valset=[]\n",
    "count1=0\n",
    "for file in os.listdir(valdir):\n",
    "    path=os.path.join(valdir,file)\n",
    "    t=0\n",
    "    for im in os.listdir(path):\n",
    "        image=load_img(os.path.join(path,im), grayscale=False, color_mode='rgb', target_size=(224,224))\n",
    "        image=img_to_array(image)\n",
    "        image=image/255.0\n",
    "        t+=1\n",
    "        valset.append([image,count1])\n",
    "    count1+=1\n",
    "    \n",
    "    \n",
    "    \n",
    "data1,labels12=zip(*valset)\n",
    "labels1=(labels12)\n",
    "valx=np.array(data1)\n",
    "valy=np.array(labels1)\n",
    "\n",
    "# tlabels1=to_categorical(tlabels0)\n",
    "# test=np.array(test)\n",
    "# tlabels=np.array(tlabels1)\n",
    "\n",
    "# trainx00,test00,trainy00,testy00=train_test_split(data,labels,test_size=0.9,random_state=44)\n",
    "# trainx0,testx,trainy0,testy=train_test_split(trainx00,trainy00,test_size=0.2,random_state=44)\n",
    "# trainx,testx,trainy,testy=train_test_split(data,labels,test_size=0.2,random_state=44)\n",
    "\n",
    "# print(trainx.shape)\n",
    "# print(testx.shape)\n",
    "# print(trainy.shape)\n",
    "# print(testy.shape)\n",
    "\n",
    "print(valx.shape)\n",
    "print(valy.shape)\n",
    "\n",
    "datagen = ImageDataGenerator(horizontal_flip=True,vertical_flip=True,rotation_range=20,zoom_range=0.2,\n",
    "                        width_shift_range=0.2,height_shift_range=0.2,shear_range=0.1,fill_mode=\"nearest\")\n",
    "\n"
   ]
  },
  {
   "cell_type": "code",
   "execution_count": null,
   "id": "6b90929c",
   "metadata": {
    "papermill": {
     "duration": 0.008327,
     "end_time": "2022-05-03T05:12:49.031786",
     "exception": false,
     "start_time": "2022-05-03T05:12:49.023459",
     "status": "completed"
    },
    "tags": []
   },
   "outputs": [],
   "source": []
  },
  {
   "cell_type": "code",
   "execution_count": 4,
   "id": "f57ed6c5",
   "metadata": {
    "execution": {
     "iopub.execute_input": "2022-05-03T05:12:49.051978Z",
     "iopub.status.busy": "2022-05-03T05:12:49.050926Z",
     "iopub.status.idle": "2022-05-03T05:12:49.465892Z",
     "shell.execute_reply": "2022-05-03T05:12:49.465000Z"
    },
    "papermill": {
     "duration": 0.428327,
     "end_time": "2022-05-03T05:12:49.468841",
     "exception": false,
     "start_time": "2022-05-03T05:12:49.040514",
     "status": "completed"
    },
    "tags": []
   },
   "outputs": [
    {
     "name": "stderr",
     "output_type": "stream",
     "text": [
      "2022-05-03 05:12:49.094363: I tensorflow/core/common_runtime/process_util.cc:146] Creating new thread pool with default inter op setting: 2. Tune using inter_op_parallelism_threads for best performance.\n"
     ]
    },
    {
     "name": "stdout",
     "output_type": "stream",
     "text": [
      "Model: \"sequential\"\n",
      "_________________________________________________________________\n",
      "Layer (type)                 Output Shape              Param #   \n",
      "=================================================================\n",
      "resizing (Resizing)          (None, 224, 224, 3)       0         \n",
      "_________________________________________________________________\n",
      "conv2d (Conv2D)              (None, 56, 56, 96)        34944     \n",
      "_________________________________________________________________\n",
      "lambda (Lambda)              (None, 56, 56, 96)        0         \n",
      "_________________________________________________________________\n",
      "activation (Activation)      (None, 56, 56, 96)        0         \n",
      "_________________________________________________________________\n",
      "max_pooling2d (MaxPooling2D) (None, 27, 27, 96)        0         \n",
      "_________________________________________________________________\n",
      "conv2d_1 (Conv2D)            (None, 7, 7, 256)         614656    \n",
      "_________________________________________________________________\n",
      "lambda_1 (Lambda)            (None, 7, 7, 256)         0         \n",
      "_________________________________________________________________\n",
      "activation_1 (Activation)    (None, 7, 7, 256)         0         \n",
      "_________________________________________________________________\n",
      "max_pooling2d_1 (MaxPooling2 (None, 3, 3, 256)         0         \n",
      "_________________________________________________________________\n",
      "conv2d_2 (Conv2D)            (None, 1, 1, 384)         885120    \n",
      "_________________________________________________________________\n",
      "activation_2 (Activation)    (None, 1, 1, 384)         0         \n",
      "_________________________________________________________________\n",
      "conv2d_3 (Conv2D)            (None, 1, 1, 384)         1327488   \n",
      "_________________________________________________________________\n",
      "activation_3 (Activation)    (None, 1, 1, 384)         0         \n",
      "_________________________________________________________________\n",
      "conv2d_4 (Conv2D)            (None, 1, 1, 256)         884992    \n",
      "_________________________________________________________________\n",
      "activation_4 (Activation)    (None, 1, 1, 256)         0         \n",
      "_________________________________________________________________\n",
      "flatten (Flatten)            (None, 256)               0         \n",
      "_________________________________________________________________\n",
      "dense (Dense)                (None, 4096)              1052672   \n",
      "_________________________________________________________________\n",
      "dropout (Dropout)            (None, 4096)              0         \n",
      "_________________________________________________________________\n",
      "dense_1 (Dense)              (None, 4096)              16781312  \n",
      "_________________________________________________________________\n",
      "dropout_1 (Dropout)          (None, 4096)              0         \n",
      "_________________________________________________________________\n",
      "dense_2 (Dense)              (None, 5)                 20485     \n",
      "=================================================================\n",
      "Total params: 21,601,669\n",
      "Trainable params: 21,601,669\n",
      "Non-trainable params: 0\n",
      "_________________________________________________________________\n"
     ]
    }
   ],
   "source": [
    "import tensorflow as tf\n",
    "import matplotlib.pyplot as plt\n",
    "from tensorflow.keras import datasets, layers, models, losses\n",
    "\n",
    "model = models.Sequential()\n",
    "model.add(layers.experimental.preprocessing.Resizing(224, 224, interpolation=\"bilinear\", input_shape=data.shape[1:]))\n",
    "model.add(layers.Conv2D(96, 11, strides=4, padding='same'))\n",
    "model.add(layers.Lambda(tf.nn.local_response_normalization))\n",
    "model.add(layers.Activation('relu'))\n",
    "model.add(layers.MaxPooling2D(3, strides=2))\n",
    "model.add(layers.Conv2D(256, 5, strides=4, padding='same'))\n",
    "model.add(layers.Lambda(tf.nn.local_response_normalization))\n",
    "model.add(layers.Activation('relu'))\n",
    "model.add(layers.MaxPooling2D(3, strides=2))\n",
    "model.add(layers.Conv2D(384, 3, strides=4, padding='same'))\n",
    "model.add(layers.Activation('relu'))\n",
    "model.add(layers.Conv2D(384, 3, strides=4, padding='same'))\n",
    "model.add(layers.Activation('relu'))\n",
    "model.add(layers.Conv2D(256, 3, strides=4, padding='same'))\n",
    "model.add(layers.Activation('relu'))\n",
    "model.add(layers.Flatten())\n",
    "model.add(layers.Dense(4096, activation='relu'))\n",
    "model.add(layers.Dropout(0.5))\n",
    "model.add(layers.Dense(4096, activation='relu'))\n",
    "model.add(layers.Dropout(0.5))\n",
    "model.add(layers.Dense(5, activation='softmax'))\n",
    "model.summary()"
   ]
  },
  {
   "cell_type": "code",
   "execution_count": 5,
   "id": "35fa16b7",
   "metadata": {
    "execution": {
     "iopub.execute_input": "2022-05-03T05:12:49.489038Z",
     "iopub.status.busy": "2022-05-03T05:12:49.488756Z",
     "iopub.status.idle": "2022-05-03T05:13:00.900515Z",
     "shell.execute_reply": "2022-05-03T05:13:00.899667Z"
    },
    "papermill": {
     "duration": 11.4244,
     "end_time": "2022-05-03T05:13:00.902585",
     "exception": false,
     "start_time": "2022-05-03T05:12:49.478185",
     "status": "completed"
    },
    "tags": []
   },
   "outputs": [
    {
     "name": "stderr",
     "output_type": "stream",
     "text": [
      "2022-05-03 05:12:49.597831: I tensorflow/compiler/mlir/mlir_graph_optimization_pass.cc:185] None of the MLIR Optimization Passes are enabled (registered 2)\n"
     ]
    },
    {
     "name": "stdout",
     "output_type": "stream",
     "text": [
      "Epoch 1/7\n",
      "3/3 [==============================] - 3s 660ms/step - loss: 1.6136 - accuracy: 0.2043 - val_loss: 1.6099 - val_accuracy: 0.2000\n",
      "Epoch 2/7\n",
      "3/3 [==============================] - 1s 503ms/step - loss: 1.6100 - accuracy: 0.2151 - val_loss: 1.6162 - val_accuracy: 0.2000\n",
      "Epoch 3/7\n",
      "3/3 [==============================] - 1s 511ms/step - loss: 1.6016 - accuracy: 0.2366 - val_loss: 1.6212 - val_accuracy: 0.2000\n",
      "Epoch 4/7\n",
      "3/3 [==============================] - 1s 483ms/step - loss: 1.5977 - accuracy: 0.2366 - val_loss: 1.6196 - val_accuracy: 0.2000\n",
      "Epoch 5/7\n",
      "3/3 [==============================] - 1s 486ms/step - loss: 1.5976 - accuracy: 0.2366 - val_loss: 1.6235 - val_accuracy: 0.2000\n",
      "Epoch 6/7\n",
      "3/3 [==============================] - 1s 477ms/step - loss: 1.6018 - accuracy: 0.2366 - val_loss: 1.6259 - val_accuracy: 0.2000\n",
      "Epoch 7/7\n",
      "3/3 [==============================] - 1s 476ms/step - loss: 1.5960 - accuracy: 0.2366 - val_loss: 1.6212 - val_accuracy: 0.2000\n"
     ]
    }
   ],
   "source": [
    "model.compile(optimizer='adam', loss=losses.sparse_categorical_crossentropy, metrics=['accuracy'])\n",
    "# labels.shape\n",
    "history = model.fit(data, labels, batch_size=31, epochs=7, validation_data=(valx, valy))"
   ]
  },
  {
   "cell_type": "code",
   "execution_count": 6,
   "id": "053793bb",
   "metadata": {
    "execution": {
     "iopub.execute_input": "2022-05-03T05:13:00.944211Z",
     "iopub.status.busy": "2022-05-03T05:13:00.943740Z",
     "iopub.status.idle": "2022-05-03T05:13:01.368593Z",
     "shell.execute_reply": "2022-05-03T05:13:01.367526Z"
    },
    "papermill": {
     "duration": 0.448118,
     "end_time": "2022-05-03T05:13:01.371156",
     "exception": false,
     "start_time": "2022-05-03T05:13:00.923038",
     "status": "completed"
    },
    "tags": []
   },
   "outputs": [
    {
     "data": {
      "text/plain": [
       "<matplotlib.legend.Legend at 0x7f2a70257750>"
      ]
     },
     "execution_count": 6,
     "metadata": {},
     "output_type": "execute_result"
    },
    {
     "data": {
      "image/png": "[encoded data removed]",
      "text/plain": [
       "<Figure size 1080x1080 with 2 Axes>"
      ]
     },
     "metadata": {
      "needs_background": "light"
     },
     "output_type": "display_data"
    }
   ],
   "source": [
    "fig, axs = plt.subplots(2, 1, figsize=(15,15))\n",
    "\n",
    "axs[0].plot(history.history['loss'])\n",
    "axs[0].plot(history.history['val_loss'])\n",
    "axs[0].title.set_text('Training Loss vs Validation Loss')\n",
    "axs[0].set_xlabel('Epochs')\n",
    "axs[0].set_ylabel('Loss')\n",
    "axs[0].legend(['Train', 'Val'])\n",
    "\n",
    "axs[1].plot(history.history['accuracy'])\n",
    "axs[1].plot(history.history['val_accuracy'])\n",
    "axs[1].title.set_text('Training Accuracy vs Validation Accuracy')\n",
    "axs[1].set_xlabel('Epochs')\n",
    "axs[1].set_ylabel('Accuracy')\n",
    "axs[1].legend(['Train', 'Val'])"
   ]
  },
  {
   "cell_type": "code",
   "execution_count": 7,
   "id": "e7f7f399",
   "metadata": {
    "execution": {
     "iopub.execute_input": "2022-05-03T05:13:01.423606Z",
     "iopub.status.busy": "2022-05-03T05:13:01.422591Z",
     "iopub.status.idle": "2022-05-03T05:13:01.652049Z",
     "shell.execute_reply": "2022-05-03T05:13:01.650666Z"
    },
    "papermill": {
     "duration": 0.260531,
     "end_time": "2022-05-03T05:13:01.654386",
     "exception": false,
     "start_time": "2022-05-03T05:13:01.393855",
     "status": "completed"
    },
    "tags": []
   },
   "outputs": [
    {
     "name": "stdout",
     "output_type": "stream",
     "text": [
      "1/1 [==============================] - 0s 176ms/step - loss: 1.6212 - accuracy: 0.2000\n"
     ]
    },
    {
     "data": {
      "text/plain": [
       "[1.621219277381897, 0.20000000298023224]"
      ]
     },
     "execution_count": 7,
     "metadata": {},
     "output_type": "execute_result"
    }
   ],
   "source": [
    "model.evaluate(valx, valy)"
   ]
  }
 ],
 "metadata": {
  "kernelspec": {
   "display_name": "Python 3",
   "language": "python",
   "name": "python3"
  },
  "language_info": {
   "codemirror_mode": {
    "name": "ipython",
    "version": 3
   },
   "file_extension": ".py",
   "mimetype": "text/x-python",
   "name": "python",
   "nbconvert_exporter": "python",
   "pygments_lexer": "ipython3",
   "version": "3.7.12"
  },
  "papermill": {
   "default_parameters": {},
   "duration": 33.610157,
   "end_time": "2022-05-03T05:13:04.415993",
   "environment_variables": {},
   "exception": null,
   "input_path": "__notebook__.ipynb",
   "output_path": "__notebook__.ipynb",
   "parameters": {},
   "start_time": "2022-05-03T05:12:30.805836",
   "version": "2.3.4"
  }
 },
 "nbformat": 4,
 "nbformat_minor": 5
}
